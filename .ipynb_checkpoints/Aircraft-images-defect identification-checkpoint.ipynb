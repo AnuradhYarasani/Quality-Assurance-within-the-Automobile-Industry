{
 "cells": [
  {
   "cell_type": "markdown",
   "metadata": {},
   "source": [
    "## Import libraries"
   ]
  },
  {
   "cell_type": "code",
   "execution_count": 1,
   "metadata": {
    "_cell_guid": "b1076dfc-b9ad-4769-8c92-a6c4dae69d19",
    "_uuid": "8f2839f25d086af736a60e9eeb907d3b93b6e0e5",
    "execution": {
     "iopub.execute_input": "2023-09-16T07:42:40.265324Z",
     "iopub.status.busy": "2023-09-16T07:42:40.264224Z",
     "iopub.status.idle": "2023-09-16T07:42:40.271737Z",
     "shell.execute_reply": "2023-09-16T07:42:40.270557Z",
     "shell.execute_reply.started": "2023-09-16T07:42:40.265278Z"
    }
   },
   "outputs": [],
   "source": [
    "import numpy as np\n",
    "import pandas as pd\n",
    "import os\n",
    "import matplotlib.pyplot as plt\n",
    "import tensorflow as tf\n",
    "from tensorflow.keras.utils import image_dataset_from_directory\n",
    "from tensorflow import keras\n",
    "from tensorflow.keras import layers\n",
    "from tensorflow.keras.models import Sequential\n",
    "import warnings\n",
    "from tensorflow.keras.preprocessing import image\n",
    "# filter warnings\n",
    "warnings.filterwarnings('ignore')\n"
   ]
  },
  {
   "cell_type": "markdown",
   "metadata": {
    "execution": {
     "iopub.execute_input": "2023-09-16T07:42:40.274827Z",
     "iopub.status.busy": "2023-09-16T07:42:40.274320Z",
     "iopub.status.idle": "2023-09-16T07:42:40.283951Z",
     "shell.execute_reply": "2023-09-16T07:42:40.282828Z",
     "shell.execute_reply.started": "2023-09-16T07:42:40.274787Z"
    }
   },
   "source": [
    " ## Load data"
   ]
  },
  {
   "cell_type": "code",
   "execution_count": 2,
   "metadata": {
    "execution": {
     "iopub.execute_input": "2023-09-16T07:42:40.286595Z",
     "iopub.status.busy": "2023-09-16T07:42:40.286150Z",
     "iopub.status.idle": "2023-09-16T07:42:42.393581Z",
     "shell.execute_reply": "2023-09-16T07:42:42.392602Z",
     "shell.execute_reply.started": "2023-09-16T07:42:40.286560Z"
    }
   },
   "outputs": [
    {
     "name": "stdout",
     "output_type": "stream",
     "text": [
      "Found 129 files belonging to 2 classes.\n",
      "Found 23 files belonging to 2 classes.\n",
      "Found 33 files belonging to 2 classes.\n"
     ]
    }
   ],
   "source": [
    "BATCH_SIZE = 8 \n",
    "IMG_HEIGHT = 90\n",
    "IMG_WIDTH = 90\n",
    "train_dir = 'datasets/train' \n",
    "test_dir = 'datasets/test'\n",
    "val_dir = 'datasets/val'\n",
    "train_ds = image_dataset_from_directory(directory = train_dir,image_size = (IMG_HEIGHT,IMG_WIDTH))\n",
    "test_ds = image_dataset_from_directory(directory = test_dir,image_size = (IMG_HEIGHT,IMG_WIDTH))\n",
    "val_ds = image_dataset_from_directory(directory = val_dir,image_size = (IMG_HEIGHT,IMG_WIDTH))"
   ]
  },
  {
   "cell_type": "code",
   "execution_count": 52,
   "metadata": {},
   "outputs": [
    {
     "data": {
      "text/plain": [
       "['Defects', 'Normal']"
      ]
     },
     "execution_count": 52,
     "metadata": {},
     "output_type": "execute_result"
    }
   ],
   "source": [
    "class_names  = train_ds.class_names\n",
    "class_names"
   ]
  },
  {
   "cell_type": "markdown",
   "metadata": {},
   "source": [
    "## Auto tune"
   ]
  },
  {
   "cell_type": "code",
   "execution_count": 53,
   "metadata": {
    "execution": {
     "iopub.execute_input": "2023-09-16T07:42:48.323640Z",
     "iopub.status.busy": "2023-09-16T07:42:48.322989Z",
     "iopub.status.idle": "2023-09-16T07:42:48.332306Z",
     "shell.execute_reply": "2023-09-16T07:42:48.331162Z",
     "shell.execute_reply.started": "2023-09-16T07:42:48.323603Z"
    }
   },
   "outputs": [],
   "source": [
    "AUTOTUNE = tf.data.AUTOTUNE\n",
    "\n",
    "train_ds = train_ds.cache().prefetch(buffer_size=AUTOTUNE)\n",
    "val_ds = val_ds.cache().prefetch(buffer_size=AUTOTUNE)"
   ]
  },
  {
   "cell_type": "markdown",
   "metadata": {},
   "source": [
    "## Data Augmentation"
   ]
  },
  {
   "cell_type": "code",
   "execution_count": 54,
   "metadata": {
    "execution": {
     "iopub.execute_input": "2023-09-16T07:42:48.334172Z",
     "iopub.status.busy": "2023-09-16T07:42:48.333677Z",
     "iopub.status.idle": "2023-09-16T07:42:48.499950Z",
     "shell.execute_reply": "2023-09-16T07:42:48.499025Z",
     "shell.execute_reply.started": "2023-09-16T07:42:48.334138Z"
    }
   },
   "outputs": [],
   "source": [
    "BATCH_SIZE = 8 \n",
    "IMG_HEIGHT = 90\n",
    "IMG_WIDTH = 90\n",
    "data_augmentation = keras.Sequential(\n",
    "  [\n",
    "    layers.RandomFlip(\"horizontal\",\n",
    "                      input_shape=(IMG_HEIGHT,\n",
    "                                  IMG_WIDTH,\n",
    "                                  3)),\n",
    "    \n",
    "  ]\n",
    ")"
   ]
  },
  {
   "cell_type": "markdown",
   "metadata": {},
   "source": [
    "## Model initialization"
   ]
  },
  {
   "cell_type": "code",
   "execution_count": 55,
   "metadata": {
    "execution": {
     "iopub.execute_input": "2023-09-16T07:42:48.501855Z",
     "iopub.status.busy": "2023-09-16T07:42:48.501500Z",
     "iopub.status.idle": "2023-09-16T07:42:48.751156Z",
     "shell.execute_reply": "2023-09-16T07:42:48.750372Z",
     "shell.execute_reply.started": "2023-09-16T07:42:48.501820Z"
    }
   },
   "outputs": [
    {
     "name": "stdout",
     "output_type": "stream",
     "text": [
      "Model: \"sequential_13\"\n",
      "_________________________________________________________________\n",
      " Layer (type)                Output Shape              Param #   \n",
      "=================================================================\n",
      " sequential_12 (Sequential)  (None, 90, 90, 3)         0         \n",
      "                                                                 \n",
      " conv2d_18 (Conv2D)          (None, 90, 90, 16)        448       \n",
      "                                                                 \n",
      " max_pooling2d_18 (MaxPoolin  (None, 45, 45, 16)       0         \n",
      " g2D)                                                            \n",
      "                                                                 \n",
      " conv2d_19 (Conv2D)          (None, 45, 45, 32)        4640      \n",
      "                                                                 \n",
      " max_pooling2d_19 (MaxPoolin  (None, 22, 22, 32)       0         \n",
      " g2D)                                                            \n",
      "                                                                 \n",
      " conv2d_20 (Conv2D)          (None, 22, 22, 64)        18496     \n",
      "                                                                 \n",
      " max_pooling2d_20 (MaxPoolin  (None, 11, 11, 64)       0         \n",
      " g2D)                                                            \n",
      "                                                                 \n",
      " dropout_6 (Dropout)         (None, 11, 11, 64)        0         \n",
      "                                                                 \n",
      " flatten_6 (Flatten)         (None, 7744)              0         \n",
      "                                                                 \n",
      " dense_6 (Dense)             (None, 128)               991360    \n",
      "                                                                 \n",
      " outputs (Dense)             (None, 2)                 258       \n",
      "                                                                 \n",
      "=================================================================\n",
      "Total params: 1,015,202\n",
      "Trainable params: 1,015,202\n",
      "Non-trainable params: 0\n",
      "_________________________________________________________________\n"
     ]
    }
   ],
   "source": [
    "num_classes = len(class_names)\n",
    "\n",
    "model = Sequential([\n",
    "  data_augmentation,\n",
    "  layers.Conv2D(16, 3, padding='same', activation='relu'),\n",
    "  layers.MaxPooling2D(),\n",
    "  layers.Conv2D(32, 3, padding='same', activation='relu'),\n",
    "  layers.MaxPooling2D(),\n",
    "  layers.Conv2D(64, 3, padding='same', activation='relu'),\n",
    "  layers.MaxPooling2D(),\n",
    "  layers.Dropout(0.2),\n",
    "  layers.Flatten(),\n",
    "  layers.Dense(128, activation='relu'),\n",
    "  layers.Dense(num_classes, name=\"outputs\")\n",
    "])\n",
    "\n",
    "model.compile(optimizer='adam',\n",
    "              loss=tf.keras.losses.SparseCategoricalCrossentropy(from_logits=True),\n",
    "              metrics=['accuracy'])\n",
    "model.summary()"
   ]
  },
  {
   "cell_type": "markdown",
   "metadata": {},
   "source": [
    "## Model Building"
   ]
  },
  {
   "cell_type": "code",
   "execution_count": 56,
   "metadata": {
    "execution": {
     "iopub.execute_input": "2023-09-16T07:44:48.690226Z",
     "iopub.status.busy": "2023-09-16T07:44:48.689830Z",
     "iopub.status.idle": "2023-09-16T07:45:32.739040Z",
     "shell.execute_reply": "2023-09-16T07:45:32.738079Z",
     "shell.execute_reply.started": "2023-09-16T07:44:48.690192Z"
    },
    "scrolled": true
   },
   "outputs": [
    {
     "name": "stdout",
     "output_type": "stream",
     "text": [
      "Epoch 1/5\n",
      "16/16 [==============================] - 8s 361ms/step - loss: 17.1372 - accuracy: 0.5615 - val_loss: 1.0712 - val_accuracy: 0.4130\n",
      "Epoch 2/5\n",
      "16/16 [==============================] - 5s 313ms/step - loss: 0.7448 - accuracy: 0.5963 - val_loss: 0.5945 - val_accuracy: 0.6522\n",
      "Epoch 3/5\n",
      "16/16 [==============================] - 5s 329ms/step - loss: 0.5772 - accuracy: 0.6639 - val_loss: 0.5313 - val_accuracy: 0.6957\n",
      "Epoch 4/5\n",
      "16/16 [==============================] - 5s 324ms/step - loss: 0.4980 - accuracy: 0.7172 - val_loss: 0.4344 - val_accuracy: 0.7609\n",
      "Epoch 5/5\n",
      "16/16 [==============================] - 5s 327ms/step - loss: 0.4374 - accuracy: 0.7561 - val_loss: 0.3341 - val_accuracy: 0.8478\n"
     ]
    }
   ],
   "source": [
    "epochs=5\n",
    "history = model.fit(\n",
    "  train_ds,\n",
    "  validation_data=val_ds,\n",
    "  epochs=epochs\n",
    ")"
   ]
  },
  {
   "cell_type": "markdown",
   "metadata": {},
   "source": [
    "## Evalute Model"
   ]
  },
  {
   "cell_type": "code",
   "execution_count": 57,
   "metadata": {
    "execution": {
     "iopub.execute_input": "2023-09-16T07:46:38.739451Z",
     "iopub.status.busy": "2023-09-16T07:46:38.739067Z",
     "iopub.status.idle": "2023-09-16T07:46:41.336243Z",
     "shell.execute_reply": "2023-09-16T07:46:41.335294Z",
     "shell.execute_reply.started": "2023-09-16T07:46:38.739418Z"
    }
   },
   "outputs": [
    {
     "name": "stdout",
     "output_type": "stream",
     "text": [
      "1/1 [==============================] - 0s 135ms/step - loss: 0.4515 - accuracy: 0.7826\n"
     ]
    },
    {
     "data": {
      "text/plain": [
       "[0.451513409614563, 0.782608687877655]"
      ]
     },
     "execution_count": 57,
     "metadata": {},
     "output_type": "execute_result"
    }
   ],
   "source": [
    "model.evaluate(test_ds)"
   ]
  },
  {
   "cell_type": "code",
   "execution_count": 58,
   "metadata": {},
   "outputs": [
    {
     "name": "stdout",
     "output_type": "stream",
     "text": [
      "Found 46 files belonging to 2 classes.\n",
      "2/2 [==============================] - 0s 43ms/step - loss: 0.3341 - accuracy: 0.8478\n"
     ]
    },
    {
     "data": {
      "text/plain": [
       "[0.3341192901134491, 0.8478260636329651]"
      ]
     },
     "execution_count": 58,
     "metadata": {},
     "output_type": "execute_result"
    }
   ],
   "source": [
    "val_ds = image_dataset_from_directory(directory = val_dir,image_size = (IMG_HEIGHT,IMG_WIDTH))\n",
    "model.evaluate(val_ds)"
   ]
  },
  {
   "cell_type": "code",
   "execution_count": null,
   "metadata": {},
   "outputs": [],
   "source": []
  },
  {
   "cell_type": "markdown",
   "metadata": {},
   "source": [
    "## Save model Weights"
   ]
  },
  {
   "cell_type": "code",
   "execution_count": 59,
   "metadata": {},
   "outputs": [],
   "source": [
    "model.save_weights('Models/aircraft_model_weights.h5')"
   ]
  },
  {
   "cell_type": "code",
   "execution_count": null,
   "metadata": {},
   "outputs": [],
   "source": [
    "model.load_weights('Models/airdraft_model_weights.h5')"
   ]
  },
  {
   "cell_type": "markdown",
   "metadata": {},
   "source": [
    "## Prediction on New Data"
   ]
  },
  {
   "cell_type": "code",
   "execution_count": null,
   "metadata": {},
   "outputs": [],
   "source": [
    "BATCH_SIZE = 8 \n",
    "IMG_HEIGHT = 90\n",
    "IMG_WIDTH = 90\n",
    "data_augmentation = keras.Sequential(\n",
    "  [\n",
    "    layers.RandomFlip(\"horizontal\",\n",
    "                      input_shape=(IMG_HEIGHT,\n",
    "                                  IMG_WIDTH,\n",
    "                                  3)),\n",
    "\n",
    "  ]\n",
    ")\n",
    "num_classes = 2\n",
    "\n",
    "model = Sequential([\n",
    "  data_augmentation,\n",
    "  layers.Conv2D(16, 3, padding='same', activation='relu'),\n",
    "  layers.MaxPooling2D(),\n",
    "  layers.Conv2D(32, 3, padding='same', activation='relu'),\n",
    "  layers.MaxPooling2D(),\n",
    "  layers.Conv2D(64, 3, padding='same', activation='relu'),\n",
    "  layers.MaxPooling2D(),\n",
    "  layers.Dropout(0.2),\n",
    "  layers.Flatten(),\n",
    "  layers.Dense(128, activation='relu'),\n",
    "  layers.Dense(num_classes, name=\"outputs\")\n",
    "])\n",
    "\n",
    "model.compile(optimizer='adam',\n",
    "              loss=tf.keras.losses.SparseCategoricalCrossentropy(from_logits=True),\n",
    "              metrics=['accuracy'])\n",
    "model.summary()"
   ]
  },
  {
   "cell_type": "code",
   "execution_count": null,
   "metadata": {},
   "outputs": [],
   "source": [
    "model.load_weights('Models/model_weights.h5')"
   ]
  },
  {
   "cell_type": "code",
   "execution_count": null,
   "metadata": {},
   "outputs": [],
   "source": [
    "BATCH_SIZE = 64 \n",
    "IMG_HEIGHT = 180\n",
    "IMG_WIDTH = 180\n",
    "train_dir = 'datasets/train' \n",
    "test_dir = 'datasets/test'\n",
    "val_dir = 'datasets/val'\n",
    "val_ds = image_dataset_from_directory(directory = test_dir,image_size = (IMG_HEIGHT,IMG_WIDTH))\n",
    "model.evaluate(val_ds)"
   ]
  },
  {
   "cell_type": "code",
   "execution_count": null,
   "metadata": {},
   "outputs": [],
   "source": []
  },
  {
   "cell_type": "code",
   "execution_count": null,
   "metadata": {},
   "outputs": [],
   "source": []
  },
  {
   "cell_type": "code",
   "execution_count": 26,
   "metadata": {
    "scrolled": false
   },
   "outputs": [
    {
     "name": "stdout",
     "output_type": "stream",
     "text": [
      "1/1 [==============================] - 0s 32ms/step\n",
      "9.jpg\n",
      "Predicted class: Defects\n",
      "1/1 [==============================] - 0s 32ms/step\n",
      "Screenshot 2023-09-27 102749.png\n",
      "Predicted class: Defects\n",
      "1/1 [==============================] - 0s 41ms/step\n",
      "Screenshot 2023-09-27 102800.png\n",
      "Predicted class: Normal\n",
      "1/1 [==============================] - 0s 40ms/step\n",
      "Screenshot 2023-09-27 102811.png\n",
      "Predicted class: Normal\n",
      "1/1 [==============================] - 0s 38ms/step\n",
      "Screenshot 2023-09-27 102825.png\n",
      "Predicted class: Normal\n",
      "1/1 [==============================] - 0s 32ms/step\n",
      "Screenshot 2023-09-27 102834.png\n",
      "Predicted class: Defects\n",
      "1/1 [==============================] - 0s 39ms/step\n",
      "Screenshot 2023-09-27 102844.png\n",
      "Predicted class: Normal\n",
      "1/1 [==============================] - 0s 56ms/step\n",
      "Screenshot 2023-09-27 102851.png\n",
      "Predicted class: Normal\n",
      "1/1 [==============================] - 0s 42ms/step\n",
      "Screenshot 2023-09-27 102901.png\n",
      "Predicted class: Normal\n",
      "1/1 [==============================] - 0s 49ms/step\n",
      "Screenshot 2023-09-27 102909.png\n",
      "Predicted class: Normal\n",
      "1/1 [==============================] - 0s 39ms/step\n",
      "Screenshot 2023-09-27 102933.png\n",
      "Predicted class: Defects\n",
      "1/1 [==============================] - 0s 41ms/step\n",
      "Screenshot 2023-09-27 102950.png\n",
      "Predicted class: Normal\n",
      "1/1 [==============================] - 0s 75ms/step\n",
      "Screenshot 2023-09-27 130011.png\n",
      "Predicted class: Normal\n",
      "1/1 [==============================] - 0s 54ms/step\n",
      "Screenshot 2023-09-27 130420.png\n",
      "Predicted class: Defects\n",
      "1/1 [==============================] - 0s 48ms/step\n",
      "Screenshot 2023-09-27 130745.png\n",
      "Predicted class: Defects\n",
      "1/1 [==============================] - 0s 41ms/step\n",
      "Screenshot 2023-09-27 130914.png\n",
      "Predicted class: Normal\n",
      "1/1 [==============================] - 0s 48ms/step\n",
      "Screenshot 2023-09-27 131115.png\n",
      "Predicted class: Defects\n",
      "1/1 [==============================] - 0s 35ms/step\n",
      "Screenshot 2023-09-27 131156.png\n",
      "Predicted class: Defects\n",
      "1/1 [==============================] - 0s 33ms/step\n",
      "Screenshot 2023-09-27 131208.png\n",
      "Predicted class: Normal\n"
     ]
    }
   ],
   "source": [
    "#predictions\n",
    "directory = 'C:\\\\Users\\\\CLOUDSEALS\\\\Projects\\\\Steel Industry\\\\Aircraft\\\\datasets\\\\Val\\\\Defects/'  # Replace with the path to your image\n",
    "for img_path in os.listdir(directory):\n",
    "    img = image.load_img(directory+img_path, target_size=(IMG_HEIGHT,IMG_WIDTH))  # Set 'height' and 'width' to match your model's input shape\n",
    "\n",
    "    # Convert the image to a numpy array\n",
    "    img_array = image.img_to_array(img)\n",
    "\n",
    "    # Expand the dimensions to match the shape expected by the model (usually batch size of 1)\n",
    "    img_array = np.expand_dims(img_array, axis=0)\n",
    "    predictions = model.predict(img_array)\n",
    "\n",
    "    # Optionally, decode the predictions if your model uses one-hot encoding for classification\n",
    "    # For example, if it's a classification model:\n",
    "    class_labels = ['Defects', 'Normal']  # Replace with your actual class labels\n",
    "    predicted_class_index = np.argmax(predictions)\n",
    "    predicted_class = class_labels[predicted_class_index]\n",
    "    print(img_path)\n",
    "    print(\"Predicted class:\", predicted_class)"
   ]
  },
  {
   "cell_type": "code",
   "execution_count": null,
   "metadata": {},
   "outputs": [],
   "source": []
  },
  {
   "cell_type": "code",
   "execution_count": null,
   "metadata": {},
   "outputs": [],
   "source": [
    "\n"
   ]
  }
 ],
 "metadata": {
  "kernelspec": {
   "display_name": "Python 3 (ipykernel)",
   "language": "python",
   "name": "python3"
  },
  "language_info": {
   "codemirror_mode": {
    "name": "ipython",
    "version": 3
   },
   "file_extension": ".py",
   "mimetype": "text/x-python",
   "name": "python",
   "nbconvert_exporter": "python",
   "pygments_lexer": "ipython3",
   "version": "3.9.13"
  }
 },
 "nbformat": 4,
 "nbformat_minor": 4
}
